{
  "nbformat": 4,
  "nbformat_minor": 0,
  "metadata": {
    "colab": {
      "provenance": []
    },
    "kernelspec": {
      "name": "python3",
      "display_name": "Python 3"
    },
    "language_info": {
      "name": "python"
    }
  },
  "cells": [
    {
      "cell_type": "code",
      "execution_count": 3,
      "metadata": {
        "colab": {
          "base_uri": "https://localhost:8080/"
        },
        "id": "fjw2skNmWbVX",
        "outputId": "d85248df-0279-4d56-ba13-bc3275dfc499"
      },
      "outputs": [
        {
          "output_type": "stream",
          "name": "stdout",
          "text": [
            "Mounted at /content/drive\n"
          ]
        }
      ],
      "source": [
        "from google.colab import drive\n",
        "drive.mount('/content/drive')"
      ]
    },
    {
      "cell_type": "code",
      "execution_count": 4,
      "metadata": {
        "id": "-06Q8EwaWdBo"
      },
      "outputs": [],
      "source": [
        "import sys\n",
        "\n",
        "radar_path = \"/content/drive/MyDrive/Radar\"\n",
        "if radar_path not in sys.path:\n",
        "    sys.path.insert(0, radar_path)\n",
        "data_dir = \"data-100\""
      ]
    },
    {
      "cell_type": "code",
      "execution_count": 5,
      "metadata": {
        "colab": {
          "base_uri": "https://localhost:8080/"
        },
        "id": "VoYYnAstYjsA",
        "outputId": "e0765ea0-6349-4f7e-ae5b-c11da2186ac2"
      },
      "outputs": [
        {
          "output_type": "stream",
          "name": "stdout",
          "text": [
            "Requirement already satisfied: scipy in /usr/local/lib/python3.10/dist-packages (1.11.4)\n",
            "Requirement already satisfied: numpy in /usr/local/lib/python3.10/dist-packages (1.23.5)\n",
            "Requirement already satisfied: matplotlib in /usr/local/lib/python3.10/dist-packages (3.7.1)\n",
            "Requirement already satisfied: contourpy>=1.0.1 in /usr/local/lib/python3.10/dist-packages (from matplotlib) (1.2.0)\n",
            "Requirement already satisfied: cycler>=0.10 in /usr/local/lib/python3.10/dist-packages (from matplotlib) (0.12.1)\n",
            "Requirement already satisfied: fonttools>=4.22.0 in /usr/local/lib/python3.10/dist-packages (from matplotlib) (4.47.2)\n",
            "Requirement already satisfied: kiwisolver>=1.0.1 in /usr/local/lib/python3.10/dist-packages (from matplotlib) (1.4.5)\n",
            "Requirement already satisfied: packaging>=20.0 in /usr/local/lib/python3.10/dist-packages (from matplotlib) (23.2)\n",
            "Requirement already satisfied: pillow>=6.2.0 in /usr/local/lib/python3.10/dist-packages (from matplotlib) (9.4.0)\n",
            "Requirement already satisfied: pyparsing>=2.3.1 in /usr/local/lib/python3.10/dist-packages (from matplotlib) (3.1.1)\n",
            "Requirement already satisfied: python-dateutil>=2.7 in /usr/local/lib/python3.10/dist-packages (from matplotlib) (2.8.2)\n",
            "Requirement already satisfied: six>=1.5 in /usr/local/lib/python3.10/dist-packages (from python-dateutil>=2.7->matplotlib) (1.16.0)\n"
          ]
        }
      ],
      "source": [
        "!pip install scipy numpy matplotlib"
      ]
    },
    {
      "cell_type": "code",
      "source": [
        "import math\n",
        "import numpy as np\n",
        "from scipy import signal\n",
        "\n",
        "\n",
        "def generateNoisyData(f_s, sample_length, SNR, offset=False):\n",
        "    \"\"\"\n",
        "    Create a discrete series of random noise measurements, simulating no drone signal.\n",
        "    :param f_s: the sampling frequency in Hz\n",
        "    :param sample_length: the length of the sample in seconds\n",
        "    :returns: a tuple of time values x, and their corresponding noisy values.\n",
        "    \"\"\"\n",
        "    xs = []\n",
        "    noisy_ys = []\n",
        "    A_r = np.random.chisquare(4)\n",
        "    variance = 10**(2*math.log10(A_r) - (SNR/10))\n",
        "    for i in range(int(f_s * sample_length)):\n",
        "        x = i / f_s\n",
        "        xs.append(x)\n",
        "        # Generating random noise without incorporating drone signal\n",
        "        noisy_val = np.random.normal(0, math.sqrt(variance))\n",
        "        noisy_ys.append(noisy_val)\n",
        "\n",
        "    return xs, noisy_ys\n",
        "\n",
        "\n",
        "def generateNoisySTFT(f_s, sample_length, SNR, offset=False):\n",
        "    xs, noisy_ys = generateNoisyData(f_s, sample_length, SNR)\n",
        "\n",
        "    # Perform a Fourier transform on the noisy signal\n",
        "    f, t, Zreal = signal.stft(\n",
        "        noisy_ys, f_s, window='hamming', nperseg=16, noverlap=8, return_onesided=False\n",
        "    )\n",
        "    Xreal = 20 * np.log10(np.abs(np.fft.fftshift(Zreal, axes=0)))\n",
        "\n",
        "    xs, noisy_ys = generateNoisyData(f_s, sample_length, SNR)\n",
        "\n",
        "    f, t, Zimag = signal.stft(\n",
        "        noisy_ys, f_s, window='hamming', nperseg=16, noverlap=8, return_onesided=False)\n",
        "\n",
        "    Ximag = 20*np.log10(np.abs(np.fft.fftshift(Zimag, axes=0)))\n",
        "\n",
        "    return np.stack((Xreal, Ximag))"
      ],
      "metadata": {
        "id": "Rfy0RxIpJFfq"
      },
      "execution_count": 6,
      "outputs": []
    },
    {
      "cell_type": "code",
      "execution_count": 7,
      "metadata": {
        "colab": {
          "base_uri": "https://localhost:8080/"
        },
        "id": "dUrPycU4ZFay",
        "outputId": "07f357e7-ed06-4d27-f8a3-155ab9f31be4"
      },
      "outputs": [
        {
          "output_type": "stream",
          "name": "stdout",
          "text": [
            "(2, 16, 251)\n"
          ]
        }
      ],
      "source": [
        "import os\n",
        "from configurations import *\n",
        "from fourier import plotSTFT\n",
        "from scipy import signal\n",
        "import numpy as np\n",
        "from drone_constants import drones\n",
        "\n",
        "sample_length = 0.20 # in seconds\n",
        "Xf_s = 10_000  # sample frequency for X band, in hz\n",
        "\n",
        "testset_size = 20  # per denomination\n",
        "trainset_size = 100  # per denomination\n",
        "\n",
        "# config = dict(scenarioWband, **djimatrice300rtk)\n",
        "sampling_frequencies = [Xf_s]\n",
        "SNR = [10, 5, 0, -5]\n",
        "\n",
        "noisy_STFT = generateNoisySTFT(Xf_s, sample_length, SNR[0])\n",
        "\n",
        "print(noisy_STFT.shape)\n"
      ]
    },
    {
      "cell_type": "code",
      "execution_count": 9,
      "metadata": {
        "colab": {
          "base_uri": "https://localhost:8080/"
        },
        "id": "LPDJzVJLbcy9",
        "outputId": "3152e728-bb08-46a3-b0df-8ffb8c503b34"
      },
      "outputs": [
        {
          "output_type": "stream",
          "name": "stdout",
          "text": [
            "10\n",
            "DJI_Matrice_300_RTK\n",
            "10000\n",
            "Generating test data for f_s=10000, SNR=10\n",
            "Generating training data for f_s=10000, SNR=10\n",
            "10\n",
            "DJI_Mavic_Air_2\n",
            "10000\n",
            "Generating test data for f_s=10000, SNR=10\n",
            "Generating training data for f_s=10000, SNR=10\n",
            "10\n",
            "DJI_Mavic_Mini\n",
            "10000\n",
            "Generating test data for f_s=10000, SNR=10\n",
            "Generating training data for f_s=10000, SNR=10\n",
            "10\n",
            "DJI_Phantom_4\n",
            "10000\n",
            "Generating test data for f_s=10000, SNR=10\n",
            "Generating training data for f_s=10000, SNR=10\n",
            "10\n",
            "Parrot_Disco\n",
            "10000\n",
            "Generating test data for f_s=10000, SNR=10\n",
            "Generating training data for f_s=10000, SNR=10\n",
            "5\n",
            "DJI_Matrice_300_RTK\n",
            "10000\n",
            "Generating test data for f_s=10000, SNR=5\n",
            "Generating training data for f_s=10000, SNR=5\n",
            "5\n",
            "DJI_Mavic_Air_2\n",
            "10000\n",
            "Generating test data for f_s=10000, SNR=5\n",
            "Generating training data for f_s=10000, SNR=5\n",
            "5\n",
            "DJI_Mavic_Mini\n",
            "10000\n",
            "Generating test data for f_s=10000, SNR=5\n",
            "Generating training data for f_s=10000, SNR=5\n",
            "5\n",
            "DJI_Phantom_4\n",
            "10000\n",
            "Generating test data for f_s=10000, SNR=5\n",
            "Generating training data for f_s=10000, SNR=5\n",
            "5\n",
            "Parrot_Disco\n",
            "10000\n",
            "Generating test data for f_s=10000, SNR=5\n",
            "Generating training data for f_s=10000, SNR=5\n",
            "0\n",
            "DJI_Matrice_300_RTK\n",
            "10000\n",
            "Generating test data for f_s=10000, SNR=0\n",
            "Generating training data for f_s=10000, SNR=0\n",
            "0\n",
            "DJI_Mavic_Air_2\n",
            "10000\n",
            "Generating test data for f_s=10000, SNR=0\n",
            "Generating training data for f_s=10000, SNR=0\n",
            "0\n",
            "DJI_Mavic_Mini\n",
            "10000\n",
            "Generating test data for f_s=10000, SNR=0\n",
            "Generating training data for f_s=10000, SNR=0\n",
            "0\n",
            "DJI_Phantom_4\n",
            "10000\n",
            "Generating test data for f_s=10000, SNR=0\n",
            "Generating training data for f_s=10000, SNR=0\n",
            "0\n",
            "Parrot_Disco\n",
            "10000\n",
            "Generating test data for f_s=10000, SNR=0\n",
            "Generating training data for f_s=10000, SNR=0\n",
            "-5\n",
            "DJI_Matrice_300_RTK\n",
            "10000\n",
            "Generating test data for f_s=10000, SNR=-5\n",
            "Generating training data for f_s=10000, SNR=-5\n",
            "-5\n",
            "DJI_Mavic_Air_2\n",
            "10000\n",
            "Generating test data for f_s=10000, SNR=-5\n",
            "Generating training data for f_s=10000, SNR=-5\n",
            "-5\n",
            "DJI_Mavic_Mini\n",
            "10000\n",
            "Generating test data for f_s=10000, SNR=-5\n",
            "Generating training data for f_s=10000, SNR=-5\n",
            "-5\n",
            "DJI_Phantom_4\n",
            "10000\n",
            "Generating test data for f_s=10000, SNR=-5\n",
            "Generating training data for f_s=10000, SNR=-5\n",
            "-5\n",
            "Parrot_Disco\n",
            "10000\n",
            "Generating test data for f_s=10000, SNR=-5\n",
            "Generating training data for f_s=10000, SNR=-5\n"
          ]
        }
      ],
      "source": [
        "for f_s in sampling_frequencies:\n",
        "    for SNR in SNR:\n",
        "        for drone in drones:\n",
        "            scenario = scenarioXband\n",
        "\n",
        "            print(SNR)\n",
        "            print(drone[\"name\"])\n",
        "            print(f_s)\n",
        "            scenario[\"SNR\"] = SNR\n",
        "            # make the directory\n",
        "            os.system(f\"mkdir -p {radar_path}/{data_dir}/testset/{f_s}fs/{SNR}SNR/noise\")\n",
        "\n",
        "            print(f\"Generating test data for {f_s=}, {SNR=}\")\n",
        "            for x in range(testset_size):\n",
        "                # new signal function every time\n",
        "\n",
        "                noisy_STFT = generateNoisySTFT(Xf_s, sample_length, SNR)\n",
        "\n",
        "                np.save(f\"{radar_path}/{data_dir}/testset/{f_s}fs/{SNR}SNR/noise/{x:06}.npy\", noisy_STFT)\n",
        "\n",
        "            os.system(f\"mkdir -p {radar_path}/{data_dir}/trainset/{f_s}fs/{SNR}SNR/noise\")\n",
        "            print(f\"Generating training data for {f_s=}, {SNR=}\")\n",
        "            for x in range(trainset_size):\n",
        "\n",
        "                noisy_STFT = generateNoisySTFT(Xf_s, sample_length, SNR)\n",
        "\n",
        "\n",
        "                np.save(f\"{radar_path}/{data_dir}/trainset/{f_s}fs/{SNR}SNR/noise/{x:06}.npy\", noisy_STFT)\n"
      ]
    }
  ]
}